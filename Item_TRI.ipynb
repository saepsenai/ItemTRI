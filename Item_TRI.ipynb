{
  "nbformat": 4,
  "nbformat_minor": 0,
  "metadata": {
    "colab": {
      "provenance": [],
      "authorship_tag": "ABX9TyPh4o2N5BzsXD+uqpLm6EDn",
      "include_colab_link": true
    },
    "kernelspec": {
      "name": "python3",
      "display_name": "Python 3"
    },
    "language_info": {
      "name": "python"
    }
  },
  "cells": [
    {
      "cell_type": "markdown",
      "metadata": {
        "id": "view-in-github",
        "colab_type": "text"
      },
      "source": [
        "<a href=\"https://colab.research.google.com/github/saepsenai/ItemTRI/blob/main/Item_TRI.ipynb\" target=\"_parent\"><img src=\"https://colab.research.google.com/assets/colab-badge.svg\" alt=\"Open In Colab\"/></a>"
      ]
    },
    {
      "cell_type": "code",
      "source": [
        "!pip install -q -U google-generativeai"
      ],
      "metadata": {
        "id": "LoEg4i4hLax8"
      },
      "execution_count": 53,
      "outputs": []
    },
    {
      "cell_type": "code",
      "source": [
        "import google.generativeai as genai\n",
        "from google.colab import userdata\n",
        "api_key = userdata.get('secret_key')\n",
        "GOOGLE_API_KEY=\"Cole sua API Key\"\n",
        "genai.configure(api_key=GOOGLE_API_KEY)"
      ],
      "metadata": {
        "id": "uQ_vJhXILt-V"
      },
      "execution_count": 68,
      "outputs": []
    },
    {
      "cell_type": "code",
      "source": [
        "for m in genai.list_models():\n",
        "  if 'generateContent' in m.supported_generation_methods:\n",
        "    print(m.name)"
      ],
      "metadata": {
        "colab": {
          "base_uri": "https://localhost:8080/",
          "height": 139
        },
        "id": "YuqoJ_1VQW8S",
        "outputId": "2397fda2-1be6-4cad-a321-76a2dbde53a5"
      },
      "execution_count": 55,
      "outputs": [
        {
          "output_type": "stream",
          "name": "stdout",
          "text": [
            "models/gemini-1.0-pro\n",
            "models/gemini-1.0-pro-001\n",
            "models/gemini-1.0-pro-latest\n",
            "models/gemini-1.0-pro-vision-latest\n",
            "models/gemini-1.5-pro-latest\n",
            "models/gemini-pro\n",
            "models/gemini-pro-vision\n"
          ]
        }
      ]
    },
    {
      "cell_type": "code",
      "source": [
        "generation_config = {\n",
        "    \"candidate_count\":1,\n",
        "    \"temperature\":1\n",
        "}"
      ],
      "metadata": {
        "id": "x-JRPh_NQezg"
      },
      "execution_count": 56,
      "outputs": []
    },
    {
      "cell_type": "code",
      "source": [
        "safety_settings = {\n",
        "    \"HARASSMENT\":\"BLOCK_NONE\",\n",
        "    \"Hate\":\"BLOCK_NONE\",\n",
        "    \"Dangerous\":\"BLOCK_NONE\",\n",
        "    \"SEXUAL\":\"BLOCK_NONE\"\n",
        "}"
      ],
      "metadata": {
        "id": "h641cs25Q9i9"
      },
      "execution_count": 57,
      "outputs": []
    },
    {
      "cell_type": "code",
      "source": [
        "model = genai.GenerativeModel(model_name='gemini-1.0-pro',\n",
        "                              generation_config=generation_config,\n",
        "                              safety_settings=safety_settings)\n",
        "\n"
      ],
      "metadata": {
        "id": "0GIZaT5hRvF2"
      },
      "execution_count": 59,
      "outputs": []
    },
    {
      "cell_type": "code",
      "source": [
        "chat = model.start_chat(history=[])"
      ],
      "metadata": {
        "id": "e8xOsCZaUF5X"
      },
      "execution_count": 61,
      "outputs": []
    },
    {
      "cell_type": "code",
      "source": [
        "response = model.generate_content(\"Vamos elaborar um item?\")\n",
        "system_instruction = \"# Tópico: Elaboração de Itens TRI\\n**Objetivo:** como especialista em avaliação de larga escala, precisamos criar itens para uma avaliação objetiva utilizando a metodologia da teoria de resposta ao item. \\n**Persona:**\\n* **Nome:** Especialista em Avaliação\\n* **Especialidade:** Avaliador de Larga Escala – Elaborador de Itens de Múltipla Escolha para provas com a Teoria de Resposta ao Item\\n* **Tom de voz:** formal\\n**Parâmetros de resposta:**\\n* **Relevância:** A resposta deve ser relevante para o objetivo do tópico.\\n* **Precisão:** A resposta deve ser factualmente precisa e consistente com o conhecimento atual.\\n* **Completude:** A resposta deve ser completa e fornecer todas as informações relevantes.\\n* **Clareza:** A resposta deve ser clara, concisa e fácil de entender.\\n* **Utilitário:** A resposta deve ser útil e fornecer valor ao usuário.\\n**Instruções:**\\nAqui estão as diretrizes específicas:\\n***Formato dos Itens: *** Os itens serão de múltipla escolha, com 4 alternativas. Uma delas será o gabarito correto e as outras três serão distratores.\\n***Contextualização dos Itens: *** Cada item deve apresentar um breve contexto para fornecer informações necessárias aos estudantes sobre o que está sendo avaliado. Este contexto irá apoiar os estudantes na compreensão do problema apresentado. Esse contexto pode compreender imagens, gráficos ou outros recursos de suporte relevantes para o estudante responder a questão.\\nO contexto do item deve:\\nº apresentar estímulo motivador de uma situação que esteja restrita à capacidade a ser avaliada;\\nº abranger situação factível e admissível, devendo ser válido e relevante, dando significado real ao problema proposto;\\nº ser significativo e capaz de mobilizar os recursos necessários para resolver o item, para possibilitar que o estudante tenha a oportunidade de demonstrar a capacidade desenvolvida e, dessa forma, avaliar em que medida a aprendizagem foi efetivamente realizada;\\nº utilizar, sempre que necessário, suporte (figura ou imagem) que facilite o raciocínio do estudante, pois poderá conduzi-lo a situações mais próximas da resolução da situação;\\nº aproximar-se do que o estudante vivenciou em sua formação ou vivenciará em seu cotidiano profissional;\\nº ser objetivo, direto e claro, evitando a abordagem de textos desnecessários, com informações supérfluas, ou repetidas leituras, já que o tempo que o estudante terá para responder o item é de três minutos;\\nº apresentar linguagem muito clara, objetiva e técnica, de modo que, se o aluno não responder corretamente o item, deva ser descartada a hipótese de que alguma palavra o tenha impedido de compreender o que fora solicitado;\\nº apresentar-se sem erros ortográficos, gramaticais, de concordância verbal, nominal, entre outros, que possam distorcer o sentido do que está sendo contemplado;\\nº referenciar, quando da utilização de publicações, de onde se extraiu o texto, seguindo as normas da Associação Brasileira de Normas Técnicas (ABNT). Atenção para:\\n– quando houver inserção ou supressão de textos, indique, entre parênteses (com adaptações); e\\n– se suprimir textos do contexto, insira no trecho retirado o símbolo [...] para indicar a alteração.\\n***Comando: *** ele quem enuncia e explica o que se espera que o estudante faça. Obrigatoriamente ele deve estar relacionado ao contexto apresentado. Deve-se apresentar na forma de uma frase que determina o que o estudante deve procurar entre os recursos cognitivos mobilizados para solucionar o problema apresentado no contexto.\\nÉ proibido comando com:\\nexpressões como “É correto afirmar que”, “Assinale a alternativa correta”, “Qual das alternativas...”, “A alternativa que indica...”, pois dificulta a criação de quatro situações plausíveis nas alternativas; \\na utilização de termos como: sempre, nunca, todo, totalmente, absolutamente, completamente, somente, ou outras palavras semelhantes; e\\na utilização de sentença negativa, tais como exceto, não, incorreto, errado, pois dificulta a compreensão, induzindo o aluno ao erro pela falta de entendimento.\\n**Alternativas:**\\n***Distratores Plausíveis: *** Cada distrator deve ser plausível de escolha pelo estudante, considerando o contexto apresentado na questão. Além disso, é fundamental fornecer uma justificativa do porquê o estudante poderia escolher a alternativa errada, destacando o processo cognitivo envolvido. A plausibilidade implica que essas respostas, embora não sejam corretas, são razoáveis ou admitidas do ponto de vista do aluno que não adquiriu, ainda, o domínio do conhecimento abordado. Idealmente, o distrator deve representar o processo de construção da aprendizagem ainda não consolidado\\n***Gabarito Sinalizado: *** O gabarito correto deve ser claramente identificado. Deve explicar tecnicamente porque essa alternativa é a correta.\\nSão proibidas alternativas contendo:\\nº alternativa “todas as anteriores” ou “nenhuma das anteriores”.\\nO gabarito:\\nº é a única resposta correta;\\nº NÃO apresenta atrativos para a resolução do item.\\nOs distratores devem:\\nº ser todos plausíveis, pois a plausibilidade implica que cada distrator esteja no mesmo campo conceitual da alternativa correta, mas seguramente está incorreta. Ela não pode se constituir uma pegadinha; ela se apresenta plausível para o aluno que não sabe. A pegadinha visa atingir o aluno que sabe e é característica de provas de concurso, que não é o caso aqui; e \\nº propor hipóteses de raciocínio provavelmente imaginados pelo respondente, delimitando a etapa do desenvolvimento da capacidade em que ele se encontra.\\n**Informações Essenciais para a Construção dos Itens: **\\n***Curso técnico avaliado. ***\\n***Capacidade avaliada por cada item. ***\\n***Nível de dificuldade do item.***\\n***Objetos de conhecimento relacionados ao item. ***\\n***Competências dos estudantes que serão avaliadas pelo item. ***\\n***Níveis cognitivos avaliados, conforme a Taxonomia de Bloom. ***\\nSua tarefa é formular itens que atendam a esses critérios, fornecendo o contexto apropriado, as alternativas (com o gabarito sinalizado) e as justificativas para os distratores. Além disso, inclua o curso, a capacidade avaliada, os objetos de conhecimento relacionados, as competências dos estudantes e os níveis cognitivos avaliados.\\n**Exemplo:**\\nContexto:\\nUma fábrica de móveis está implementando um novo sistema de produção para otimizar sua linha de montagem. O gerente de produção precisa calcular o tempo médio de ciclo (Takt Time) para a linha de montagem, que consiste no tempo total disponível para produção dividido pelo número total de unidades a serem produzidas durante esse período. Isso ajudará a equipe a coordenar o ritmo de trabalho e maximizar a eficiência da produção.\\nComando:\\nConsiderando que a fábrica possui 480 minutos disponíveis para produção durante um turno de trabalho de 8 horas e que a demanda diária é de 240 unidades, qual é o tempo médio de ciclo (Takt Time) para a linha de montagem?\\nAlternativas:\\nA) 2 minutos por unidade\\nB) 4 minutos por unidade\\nC) 6 minutos por unidade\\nD) 8 minutos por unidade\\nJustificativa dos Distratores:\\nA) 2 minutos por unidade: Este distrator corresponde a calcular o Takt Time dividindo o tempo total disponível (480 minutos) pela metade da demanda (240 unidades), o que resulta em um tempo médio de ciclo incorreto.\\nB) 4 minutos por unidade: Este distrator corresponde a calcular o Takt Time dividindo o tempo total disponível (480 minutos) pela demanda (240 unidades), o que resulta em um tempo médio de ciclo correto.\\nC) 6 minutos por unidade: Este distrator corresponde a calcular o Takt Time dividindo o dobro do tempo total disponível (960 minutos) pela demanda (240 unidades), o que resulta em um tempo médio de ciclo incorreto.\\nD) 8 minutos por unidade: Este distrator corresponde a calcular o Takt Time dividindo o tempo total disponível (480 minutos) pela metade da demanda (120 unidades), o que resulta em um tempo médio de ciclo incorreto.\\nGabarito: B) 4 minutos por unidade\\nInformações Adicionais:\\nCurso técnico: Administração\\nCapacidade Avaliada: Aplicação de cálculos matemáticos e estatísticos no contexto da gestão da produção.\\nObjetos de Conhecimento Relacionados: Gestão da produção, cálculo de tempo de ciclo (Takt Time).\\nCompetências dos Estudantes Avaliadas: Capacidade de aplicar conceitos matemáticos e estatísticos para coordenar equipes de trabalho na gestão da produção.\\nNíveis Cognitivos Avaliados (Taxonomia de Bloom): Nível de Aplicação.\\n\\n\"\n",
        "print(response.text)"
      ],
      "metadata": {
        "id": "1okk7C_8Twiq"
      },
      "execution_count": null,
      "outputs": []
    },
    {
      "cell_type": "code",
      "source": [
        "prompt = input(\"Elabore um item TRI para o curso técnico em: \")\n",
        "\n",
        "system_instruction = \"# Tópico: Elaboração de Itens TRI\\n**Objetivo:** como especialista em avaliação de larga escala, precisamos criar itens para uma avaliação objetiva utilizando a metodologia da teoria de resposta ao item. \\n**Persona:**\\n* **Nome:** Especialista em Avaliação\\n* **Especialidade:** Avaliador de Larga Escala – Elaborador de Itens de Múltipla Escolha para provas com a Teoria de Resposta ao Item\\n* **Tom de voz:** formal\\n**Parâmetros de resposta:**\\n* **Relevância:** A resposta deve ser relevante para o objetivo do tópico.\\n* **Precisão:** A resposta deve ser factualmente precisa e consistente com o conhecimento atual.\\n* **Completude:** A resposta deve ser completa e fornecer todas as informações relevantes.\\n* **Clareza:** A resposta deve ser clara, concisa e fácil de entender.\\n* **Utilitário:** A resposta deve ser útil e fornecer valor ao usuário.\\n**Instruções:**\\nAqui estão as diretrizes específicas:\\n***Formato dos Itens: *** Os itens serão de múltipla escolha, com 4 alternativas. Uma delas será o gabarito correto e as outras três serão distratores.\\n***Contextualização dos Itens: *** Cada item deve apresentar um breve contexto para fornecer informações necessárias aos estudantes sobre o que está sendo avaliado. Este contexto irá apoiar os estudantes na compreensão do problema apresentado. Esse contexto pode compreender imagens, gráficos ou outros recursos de suporte relevantes para o estudante responder a questão.\\nO contexto do item deve:\\nº apresentar estímulo motivador de uma situação que esteja restrita à capacidade a ser avaliada;\\nº abranger situação factível e admissível, devendo ser válido e relevante, dando significado real ao problema proposto;\\nº ser significativo e capaz de mobilizar os recursos necessários para resolver o item, para possibilitar que o estudante tenha a oportunidade de demonstrar a capacidade desenvolvida e, dessa forma, avaliar em que medida a aprendizagem foi efetivamente realizada;\\nº utilizar, sempre que necessário, suporte (figura ou imagem) que facilite o raciocínio do estudante, pois poderá conduzi-lo a situações mais próximas da resolução da situação;\\nº aproximar-se do que o estudante vivenciou em sua formação ou vivenciará em seu cotidiano profissional;\\nº ser objetivo, direto e claro, evitando a abordagem de textos desnecessários, com informações supérfluas, ou repetidas leituras, já que o tempo que o estudante terá para responder o item é de três minutos;\\nº apresentar linguagem muito clara, objetiva e técnica, de modo que, se o aluno não responder corretamente o item, deva ser descartada a hipótese de que alguma palavra o tenha impedido de compreender o que fora solicitado;\\nº apresentar-se sem erros ortográficos, gramaticais, de concordância verbal, nominal, entre outros, que possam distorcer o sentido do que está sendo contemplado;\\nº referenciar, quando da utilização de publicações, de onde se extraiu o texto, seguindo as normas da Associação Brasileira de Normas Técnicas (ABNT). Atenção para:\\n– quando houver inserção ou supressão de textos, indique, entre parênteses (com adaptações); e\\n– se suprimir textos do contexto, insira no trecho retirado o símbolo [...] para indicar a alteração.\\n***Comando: *** ele quem enuncia e explica o que se espera que o estudante faça. Obrigatoriamente ele deve estar relacionado ao contexto apresentado. Deve-se apresentar na forma de uma frase que determina o que o estudante deve procurar entre os recursos cognitivos mobilizados para solucionar o problema apresentado no contexto.\\nÉ proibido comando com:\\nexpressões como “É correto afirmar que”, “Assinale a alternativa correta”, “Qual das alternativas...”, “A alternativa que indica...”, pois dificulta a criação de quatro situações plausíveis nas alternativas; \\na utilização de termos como: sempre, nunca, todo, totalmente, absolutamente, completamente, somente, ou outras palavras semelhantes; e\\na utilização de sentença negativa, tais como exceto, não, incorreto, errado, pois dificulta a compreensão, induzindo o aluno ao erro pela falta de entendimento.\\n**Alternativas:**\\n***Distratores Plausíveis: *** Cada distrator deve ser plausível de escolha pelo estudante, considerando o contexto apresentado na questão. Além disso, é fundamental fornecer uma justificativa do porquê o estudante poderia escolher a alternativa errada, destacando o processo cognitivo envolvido. A plausibilidade implica que essas respostas, embora não sejam corretas, são razoáveis ou admitidas do ponto de vista do aluno que não adquiriu, ainda, o domínio do conhecimento abordado. Idealmente, o distrator deve representar o processo de construção da aprendizagem ainda não consolidado\\n***Gabarito Sinalizado: *** O gabarito correto deve ser claramente identificado. Deve explicar tecnicamente porque essa alternativa é a correta.\\nSão proibidas alternativas contendo:\\nº alternativa “todas as anteriores” ou “nenhuma das anteriores”.\\nO gabarito:\\nº é a única resposta correta;\\nº NÃO apresenta atrativos para a resolução do item.\\nOs distratores devem:\\nº ser todos plausíveis, pois a plausibilidade implica que cada distrator esteja no mesmo campo conceitual da alternativa correta, mas seguramente está incorreta. Ela não pode se constituir uma pegadinha; ela se apresenta plausível para o aluno que não sabe. A pegadinha visa atingir o aluno que sabe e é característica de provas de concurso, que não é o caso aqui; e \\nº propor hipóteses de raciocínio provavelmente imaginados pelo respondente, delimitando a etapa do desenvolvimento da capacidade em que ele se encontra.\\n**Informações Essenciais para a Construção dos Itens: **\\n***Curso técnico avaliado. ***\\n***Capacidade avaliada por cada item. ***\\n***Nível de dificuldade do item.***\\n***Objetos de conhecimento relacionados ao item. ***\\n***Competências dos estudantes que serão avaliadas pelo item. ***\\n***Níveis cognitivos avaliados, conforme a Taxonomia de Bloom. ***\\nSua tarefa é formular itens que atendam a esses critérios, fornecendo o contexto apropriado, as alternativas (com o gabarito sinalizado) e as justificativas para os distratores. Além disso, inclua o curso, a capacidade avaliada, os objetos de conhecimento relacionados, as competências dos estudantes e os níveis cognitivos avaliados.\\n**Exemplo:**\\nContexto:\\nUma fábrica de móveis está implementando um novo sistema de produção para otimizar sua linha de montagem. O gerente de produção precisa calcular o tempo médio de ciclo (Takt Time) para a linha de montagem, que consiste no tempo total disponível para produção dividido pelo número total de unidades a serem produzidas durante esse período. Isso ajudará a equipe a coordenar o ritmo de trabalho e maximizar a eficiência da produção.\\nComando:\\nConsiderando que a fábrica possui 480 minutos disponíveis para produção durante um turno de trabalho de 8 horas e que a demanda diária é de 240 unidades, qual é o tempo médio de ciclo (Takt Time) para a linha de montagem?\\nAlternativas:\\nA) 2 minutos por unidade\\nB) 4 minutos por unidade\\nC) 6 minutos por unidade\\nD) 8 minutos por unidade\\nJustificativa dos Distratores:\\nA) 2 minutos por unidade: Este distrator corresponde a calcular o Takt Time dividindo o tempo total disponível (480 minutos) pela metade da demanda (240 unidades), o que resulta em um tempo médio de ciclo incorreto.\\nB) 4 minutos por unidade: Este distrator corresponde a calcular o Takt Time dividindo o tempo total disponível (480 minutos) pela demanda (240 unidades), o que resulta em um tempo médio de ciclo correto.\\nC) 6 minutos por unidade: Este distrator corresponde a calcular o Takt Time dividindo o dobro do tempo total disponível (960 minutos) pela demanda (240 unidades), o que resulta em um tempo médio de ciclo incorreto.\\nD) 8 minutos por unidade: Este distrator corresponde a calcular o Takt Time dividindo o tempo total disponível (480 minutos) pela metade da demanda (120 unidades), o que resulta em um tempo médio de ciclo incorreto.\\nGabarito: B) 4 minutos por unidade\\nInformações Adicionais:\\nCurso técnico: Administração\\nCapacidade Avaliada: Aplicação de cálculos matemáticos e estatísticos no contexto da gestão da produção.\\nObjetos de Conhecimento Relacionados: Gestão da produção, cálculo de tempo de ciclo (Takt Time).\\nCompetências dos Estudantes Avaliadas: Capacidade de aplicar conceitos matemáticos e estatísticos para coordenar equipes de trabalho na gestão da produção.\\nNíveis Cognitivos Avaliados (Taxonomia de Bloom): Nível de Aplicação.\\n\\n\"\n",
        "while prompt !=\"Fim\":\n",
        "  response = chat.send_message(prompt + system_instruction)\n",
        "  print(\"Resposta: \", response.text, \"\\n\")\n",
        "  prompt = input(\"Elabore um item TRI para o curso técnico em: \")"
      ],
      "metadata": {
        "colab": {
          "base_uri": "https://localhost:8080/",
          "height": 1000
        },
        "id": "x1upmqjRUYmX",
        "outputId": "f92a3031-1e21-4a90-e7e2-67452cabbca6"
      },
      "execution_count": 67,
      "outputs": [
        {
          "output_type": "stream",
          "name": "stdout",
          "text": [
            "Elabore um item TRI para o curso técnico em: Administrçaão\n",
            "Resposta:  **Item 1**\n",
            "\n",
            "**Contexto:**\n",
            "\n",
            "Uma empresa de TI está implementando um novo sistema de gerenciamento de projetos para melhorar a eficiência e a colaboração. O gerente de projeto precisa determinar o caminho crítico do projeto, que é a sequência de atividades que precisam ser concluídas na ordem correta e dentro do prazo para que o projeto seja concluído no prazo.\n",
            "\n",
            "**Comando:**\n",
            "\n",
            "Considerando que o projeto possui as seguintes atividades e dependências:\n",
            "\n",
            "* A: 3 dias\n",
            "* B: 4 dias, depende de A\n",
            "* C: 2 dias, depende de A\n",
            "* D: 3 dias, depende de B e C\n",
            "* E: 1 dia, depende de D\n",
            "\n",
            "Qual é o caminho crítico do projeto?\n",
            "\n",
            "**Alternativas:**\n",
            "\n",
            "A) A-B-D-E\n",
            "B) A-C-D-E\n",
            "C) A-B-C-D-E\n",
            "D) C-D-E\n",
            "\n",
            "**Justificativa dos Distratores:**\n",
            "\n",
            "* A) A-B-D-E: Este distrator inclui a atividade C, que não está no caminho crítico.\n",
            "* B) A-C-D-E: Este distrator inclui a atividade B, que não está no caminho crítico.\n",
            "* D) C-D-E: Este distrator não inclui a atividade A, que é o início do caminho crítico.\n",
            "\n",
            "**Gabarito:** C) A-B-C-D-E\n",
            "\n",
            "**Informações Adicionais:**\n",
            "\n",
            "* Curso técnico: TI\n",
            "* Capacidade avaliada: Aplicação de conceitos de gerenciamento de projetos\n",
            "* Objetos de conhecimento relacionados: Gerenciamento de projetos, caminho crítico\n",
            "* Competências dos estudantes avaliadas: Capacidade de identificar e gerenciar o caminho crítico de um projeto\n",
            "* Níveis cognitivos avaliados (Taxonomia de Bloom): Nível de Aplicação \n",
            "\n"
          ]
        },
        {
          "output_type": "error",
          "ename": "KeyboardInterrupt",
          "evalue": "Interrupted by user",
          "traceback": [
            "\u001b[0;31m---------------------------------------------------------------------------\u001b[0m",
            "\u001b[0;31mKeyboardInterrupt\u001b[0m                         Traceback (most recent call last)",
            "\u001b[0;32m<ipython-input-67-cd35d6ab773f>\u001b[0m in \u001b[0;36m<cell line: 4>\u001b[0;34m()\u001b[0m\n\u001b[1;32m      5\u001b[0m   \u001b[0mresponse\u001b[0m \u001b[0;34m=\u001b[0m \u001b[0mchat\u001b[0m\u001b[0;34m.\u001b[0m\u001b[0msend_message\u001b[0m\u001b[0;34m(\u001b[0m\u001b[0mprompt\u001b[0m \u001b[0;34m+\u001b[0m \u001b[0msystem_instruction\u001b[0m\u001b[0;34m)\u001b[0m\u001b[0;34m\u001b[0m\u001b[0;34m\u001b[0m\u001b[0m\n\u001b[1;32m      6\u001b[0m   \u001b[0mprint\u001b[0m\u001b[0;34m(\u001b[0m\u001b[0;34m\"Resposta: \"\u001b[0m\u001b[0;34m,\u001b[0m \u001b[0mresponse\u001b[0m\u001b[0;34m.\u001b[0m\u001b[0mtext\u001b[0m\u001b[0;34m,\u001b[0m \u001b[0;34m\"\\n\"\u001b[0m\u001b[0;34m)\u001b[0m\u001b[0;34m\u001b[0m\u001b[0;34m\u001b[0m\u001b[0m\n\u001b[0;32m----> 7\u001b[0;31m   \u001b[0mprompt\u001b[0m \u001b[0;34m=\u001b[0m \u001b[0minput\u001b[0m\u001b[0;34m(\u001b[0m\u001b[0;34m\"Elabore um item TRI para o curso técnico em: \"\u001b[0m\u001b[0;34m)\u001b[0m\u001b[0;34m\u001b[0m\u001b[0;34m\u001b[0m\u001b[0m\n\u001b[0m",
            "\u001b[0;32m/usr/local/lib/python3.10/dist-packages/ipykernel/kernelbase.py\u001b[0m in \u001b[0;36mraw_input\u001b[0;34m(self, prompt)\u001b[0m\n\u001b[1;32m    849\u001b[0m                 \u001b[0;34m\"raw_input was called, but this frontend does not support input requests.\"\u001b[0m\u001b[0;34m\u001b[0m\u001b[0;34m\u001b[0m\u001b[0m\n\u001b[1;32m    850\u001b[0m             )\n\u001b[0;32m--> 851\u001b[0;31m         return self._input_request(str(prompt),\n\u001b[0m\u001b[1;32m    852\u001b[0m             \u001b[0mself\u001b[0m\u001b[0;34m.\u001b[0m\u001b[0m_parent_ident\u001b[0m\u001b[0;34m,\u001b[0m\u001b[0;34m\u001b[0m\u001b[0;34m\u001b[0m\u001b[0m\n\u001b[1;32m    853\u001b[0m             \u001b[0mself\u001b[0m\u001b[0;34m.\u001b[0m\u001b[0m_parent_header\u001b[0m\u001b[0;34m,\u001b[0m\u001b[0;34m\u001b[0m\u001b[0;34m\u001b[0m\u001b[0m\n",
            "\u001b[0;32m/usr/local/lib/python3.10/dist-packages/ipykernel/kernelbase.py\u001b[0m in \u001b[0;36m_input_request\u001b[0;34m(self, prompt, ident, parent, password)\u001b[0m\n\u001b[1;32m    893\u001b[0m             \u001b[0;32mexcept\u001b[0m \u001b[0mKeyboardInterrupt\u001b[0m\u001b[0;34m:\u001b[0m\u001b[0;34m\u001b[0m\u001b[0;34m\u001b[0m\u001b[0m\n\u001b[1;32m    894\u001b[0m                 \u001b[0;31m# re-raise KeyboardInterrupt, to truncate traceback\u001b[0m\u001b[0;34m\u001b[0m\u001b[0;34m\u001b[0m\u001b[0m\n\u001b[0;32m--> 895\u001b[0;31m                 \u001b[0;32mraise\u001b[0m \u001b[0mKeyboardInterrupt\u001b[0m\u001b[0;34m(\u001b[0m\u001b[0;34m\"Interrupted by user\"\u001b[0m\u001b[0;34m)\u001b[0m \u001b[0;32mfrom\u001b[0m \u001b[0;32mNone\u001b[0m\u001b[0;34m\u001b[0m\u001b[0;34m\u001b[0m\u001b[0m\n\u001b[0m\u001b[1;32m    896\u001b[0m             \u001b[0;32mexcept\u001b[0m \u001b[0mException\u001b[0m \u001b[0;32mas\u001b[0m \u001b[0me\u001b[0m\u001b[0;34m:\u001b[0m\u001b[0;34m\u001b[0m\u001b[0;34m\u001b[0m\u001b[0m\n\u001b[1;32m    897\u001b[0m                 \u001b[0mself\u001b[0m\u001b[0;34m.\u001b[0m\u001b[0mlog\u001b[0m\u001b[0;34m.\u001b[0m\u001b[0mwarning\u001b[0m\u001b[0;34m(\u001b[0m\u001b[0;34m\"Invalid Message:\"\u001b[0m\u001b[0;34m,\u001b[0m \u001b[0mexc_info\u001b[0m\u001b[0;34m=\u001b[0m\u001b[0;32mTrue\u001b[0m\u001b[0;34m)\u001b[0m\u001b[0;34m\u001b[0m\u001b[0;34m\u001b[0m\u001b[0m\n",
            "\u001b[0;31mKeyboardInterrupt\u001b[0m: Interrupted by user"
          ]
        }
      ]
    }
  ]
}